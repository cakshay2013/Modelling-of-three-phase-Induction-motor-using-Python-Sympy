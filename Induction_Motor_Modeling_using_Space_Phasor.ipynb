{
  "nbformat": 4,
  "nbformat_minor": 0,
  "metadata": {
    "colab": {
      "provenance": []
    },
    "kernelspec": {
      "name": "python3",
      "display_name": "Python 3"
    },
    "language_info": {
      "name": "python"
    }
  },
  "cells": [
    {
      "cell_type": "code",
      "execution_count": null,
      "metadata": {
        "colab": {
          "base_uri": "https://localhost:8080/",
          "height": 80
        },
        "id": "xXpSoMeEm3ny",
        "outputId": "578aee2e-0f7e-4c7e-9b35-9f2b83285feb"
      },
      "outputs": [
        {
          "output_type": "execute_result",
          "data": {
            "text/plain": [
              "Matrix([\n",
              "[Lls + Lms,    -Lms/2,    -Lms/2],\n",
              "[   -Lms/2, Lls + Lms,    -Lms/2],\n",
              "[   -Lms/2,    -Lms/2, Lls + Lms]])"
            ],
            "text/latex": "$\\displaystyle \\left[\\begin{matrix}Lls + Lms & - \\frac{Lms}{2} & - \\frac{Lms}{2}\\\\- \\frac{Lms}{2} & Lls + Lms & - \\frac{Lms}{2}\\\\- \\frac{Lms}{2} & - \\frac{Lms}{2} & Lls + Lms\\end{matrix}\\right]$"
          },
          "metadata": {},
          "execution_count": 42
        }
      ],
      "source": [
        "# Space phasor representation\n",
        "\n",
        "import numpy as np\n",
        "#from sympy.abc import x, y, z, a\n",
        "from sympy import MatrixSymbol, Matrix, nsimplify, exp\n",
        "from sympy.matrices import Matrix\n",
        "import sympy as sym\n",
        "from sympy import *\n",
        "#[Lls, Llr, Lms, Lmr, Msr, Rs, Rr, t, omega, omega_s, omega_r, theta, theta_s, theta_r] = sym.Symbol(['Lls', 'Llr', 'Lms', 'Lmr', 'Msr', 'Rs', 'Rr', 't', 'omega', 'omega_s', 'omega_r', 'theta', 'theta_s', 'theta_r'], real=true)\n",
        "Lls, Llr, Lms, Lmr, Msr, Rs, Rr, t, omega, omega_s, omega_r, theta, theta_s, theta_r = symbols('Lls Llr Lms Lmr Msr Rs Rr t omega omega_s omega_r theta theta_s theta_r', real=true)\n",
        "\n",
        "# Lls = sym.Symbol('Lls',real=True)\n",
        "# Llr = sym.Symbol('Llr',real=True)\n",
        "# Lms = sym.Symbol('Lms',real=True)\n",
        "# Lmr = sym.Symbol('Lmr',real=True)\n",
        "# Msr = sym.Symbol('Msr',real=True)\n",
        "# Rs = sym.Symbol('Rs',real=True)\n",
        "# Rr = sym.Symbol('Rr',real=True)\n",
        "# t = sym.Symbol('t',real=True)\n",
        "# omega = sym.Symbol('omega',real=True)\n",
        "# omega_s = sym.Symbol('omega_s',real=True)\n",
        "# omega_r = sym.Symbol('omega_r',real=True)\n",
        "# theta_r = sym.Symbol('theta_r',real=True)\n",
        "# theta_s = sym.Symbol('theta_s',real=True)\n",
        "# theta = sym.Symbol('theta',real=True)\n",
        "\n",
        "#Vas, Vbs, Vcs, Var, Vbr, Vcr, ias, ibs, ics, iar, ibr, icr, lambda_as, lambda_bs, lambda_cs, lambda_ar, lambda_br, lambda_cr = sym.Function('Vas Vbs Vcs Var Vbr Vcr ias ibs ics iar ibr icr lambda_as lambda_bs lambda_cs lambda_ar lambda_br lambda_cr', real=True)(t)\n",
        "\n",
        "# Declaring all states (as functions of time) in abc domain\n",
        "Vas=sym.Function('Vas',real=True)(t)\n",
        "Vbs=sym.Function('Vbs',real=True)(t)\n",
        "Vcs=sym.Function('Vcs',real=True)(t)\n",
        "Var=sym.Function('Var',real=True)(t)\n",
        "Vbr=sym.Function('Vbr',real=True)(t)\n",
        "Vcr=sym.Function('Vcr',real=True)(t)\n",
        "ias=sym.Function('ias',real=True)(t)\n",
        "ibs=sym.Function('ibs',real=True)(t)\n",
        "ics=sym.Function('ics',real=True)(t)\n",
        "iar=sym.Function('iar',real=True)(t)\n",
        "ibr=sym.Function('ibr',real=True)(t)\n",
        "icr=sym.Function('icr',real=True)(t)\n",
        "lambda_as=sym.Function('lambda_as',real=True)(t)\n",
        "lambda_bs=sym.Function('lambda_bs',real=True)(t)\n",
        "lambda_cs=sym.Function('lambda_cs',real=True)(t)\n",
        "lambda_ar=sym.Function('lambda_ar',real=True)(t)\n",
        "lambda_br=sym.Function('lambda_br',real=True)(t)\n",
        "lambda_cr=sym.Function('lambda_cr',real=True)(t)\n",
        "\n",
        "# Declaring all state vectors in abc domain\n",
        "Vsabc=sym.Function('Vsabc',real=True)(t)\n",
        "isabc=sym.Function('isabc',real=True)(t)\n",
        "Lambdasabc=sym.Function('Lambdasabc',real=True)(t)\n",
        "Vrabc=sym.Function('Vrabc',real=True)(t)\n",
        "irabc=sym.Function('irabc',real=True)(t)\n",
        "Lambdarabc=sym.Function('Lambdarabc',real=True)(t)\n",
        "\n",
        "# Declaring all space phasors (as functions of time) in abc domain\n",
        "V_abcs=sym.Function('V_abcs',real=True)(t)\n",
        "i_abcs=sym.Function('i_abcs',real=True)(t)\n",
        "Lambda_abcs=sym.Function('Lambda_abcs',real=True)(t)\n",
        "V_abcr=sym.Function('V_abcr',real=True)(t)\n",
        "i_abcr=sym.Function('i_abcr',real=True)(t)\n",
        "Lambda_abcr=sym.Function('Lambda_abcr',real=True)(t)\n",
        "V_abcrs=sym.Function('V_abcrs',real=True)(t)\n",
        "i_abcrs=sym.Function('i_abcrs',real=True)(t)\n",
        "Lambda_abcrs=sym.Function('Lambda_abcrs',real=True)(t)\n",
        "\n",
        "# Declaring all space phasors (as functions of time) in dq domain\n",
        "V_dqs=sym.Function('V_dqs',real=True)(t)\n",
        "i_dqs=sym.Function('i_dqs',real=True)(t)\n",
        "Lambda_dqs=sym.Function('Lambda_dqs',real=True)(t)\n",
        "V_dqrs=sym.Function('V_dqrs',real=True)(t)\n",
        "i_dqrs=sym.Function('i_dqrs',real=True)(t)\n",
        "Lambda_dqrs=sym.Function('Lambda_dqrs',real=True)(t)\n",
        "\n",
        "# Declaring all states (as functions of time) in dq domain\n",
        "Vds=sym.Function('Vds',real=True)(t)\n",
        "Vqs=sym.Function('Vqs',real=True)(t)\n",
        "V0s=sym.Function('V0s',real=True)(t)\n",
        "Vdrs=sym.Function('Vdrs',real=True)(t)\n",
        "Vqrs=sym.Function('Vqrs',real=True)(t)\n",
        "V0rs=sym.Function('V0rs',real=True)(t)\n",
        "ids=sym.Function('ids',real=True)(t)\n",
        "iqs=sym.Function('iqs',real=True)(t)\n",
        "i0s=sym.Function('i0s',real=True)(t)\n",
        "idrs=sym.Function('idrs',real=True)(t)\n",
        "iqrs=sym.Function('iqrs',real=True)(t)\n",
        "i0rs=sym.Function('i0rs',real=True)(t)\n",
        "lambda_ds=sym.Function('lambda_ds',real=True)(t)\n",
        "lambda_qs=sym.Function('lambda_qs',real=True)(t)\n",
        "lambda_0s=sym.Function('lambda_0s',real=True)(t)\n",
        "lambda_drs=sym.Function('lambda_drs',real=True)(t)\n",
        "lambda_qrs=sym.Function('lambda_qrs',real=True)(t)\n",
        "lambda_0rs=sym.Function('lambda_0rs',real=True)(t)\n",
        "\n",
        "theta = omega*t\n",
        "theta_s = omega_s*t\n",
        "theta_r = omega_r*t\n",
        "\n",
        "Lssabc = Matrix([[Lls+Lms, -Lms/2, -Lms/2], [-Lms/2, Lls+Lms, -Lms/2], [-Lms/2, -Lms/2, Lls+Lms]])\n",
        "Lssabc"
      ]
    },
    {
      "cell_type": "code",
      "source": [
        "Lrrabc = Matrix([[Llr+Lmr, -Lmr/2, -Lmr/2], [-Lmr/2, Llr+Lmr, -Lmr/2], [-Lmr/2, -Lmr/2, Llr+Lmr]])\n",
        "Lrrabc"
      ],
      "metadata": {
        "colab": {
          "base_uri": "https://localhost:8080/",
          "height": 80
        },
        "id": "E2Y9_G68nbRn",
        "outputId": "cd2b84eb-faca-45a5-9fcf-c6f47d7accb7"
      },
      "execution_count": null,
      "outputs": [
        {
          "output_type": "execute_result",
          "data": {
            "text/plain": [
              "Matrix([\n",
              "[Llr + Lmr,    -Lmr/2,    -Lmr/2],\n",
              "[   -Lmr/2, Llr + Lmr,    -Lmr/2],\n",
              "[   -Lmr/2,    -Lmr/2, Llr + Lmr]])"
            ],
            "text/latex": "$\\displaystyle \\left[\\begin{matrix}Llr + Lmr & - \\frac{Lmr}{2} & - \\frac{Lmr}{2}\\\\- \\frac{Lmr}{2} & Llr + Lmr & - \\frac{Lmr}{2}\\\\- \\frac{Lmr}{2} & - \\frac{Lmr}{2} & Llr + Lmr\\end{matrix}\\right]$"
          },
          "metadata": {},
          "execution_count": 43
        }
      ]
    },
    {
      "cell_type": "code",
      "source": [
        "#Lsrabc = Msr*Matrix([[sym.cos(theta_r), sym.cos(theta_r+2*sym.pi/3), sym.cos(theta_r-2*sym.pi/3)], [sym.cos(theta_r-2*sym.pi/3), sym.cos(theta_r), sym.cos(theta_r+2*sym.pi/3)], [sym.cos(theta_r+2*sym.pi/3), sym.cos(theta_r-2*sym.pi/3), sym.cos(theta_r)]])\n",
        "Lsrabc = Msr*Matrix([[sym.cos(theta_r), sym.cos(theta_r+2*np.pi/3), sym.cos(theta_r-2*np.pi/3)], [sym.cos(theta_r-2*np.pi/3), sym.cos(theta_r), sym.cos(theta_r+2*np.pi/3)], [sym.cos(theta_r+2*np.pi/3), sym.cos(theta_r-2*np.pi/3), sym.cos(theta_r)]])\n",
        "Lsrabc"
      ],
      "metadata": {
        "colab": {
          "base_uri": "https://localhost:8080/",
          "height": 78
        },
        "id": "ECJbdaEJndRI",
        "outputId": "1fb16bdb-05da-486c-c6b5-3ff77a93d869"
      },
      "execution_count": null,
      "outputs": [
        {
          "output_type": "execute_result",
          "data": {
            "text/plain": [
              "Matrix([\n",
              "[                  Msr*cos(omega_r*t), Msr*cos(omega_r*t + 2.0943951023932), Msr*cos(omega_r*t - 2.0943951023932)],\n",
              "[Msr*cos(omega_r*t - 2.0943951023932),                   Msr*cos(omega_r*t), Msr*cos(omega_r*t + 2.0943951023932)],\n",
              "[Msr*cos(omega_r*t + 2.0943951023932), Msr*cos(omega_r*t - 2.0943951023932),                   Msr*cos(omega_r*t)]])"
            ],
            "text/latex": "$\\displaystyle \\left[\\begin{matrix}Msr \\cos{\\left(\\omega_{r} t \\right)} & Msr \\cos{\\left(\\omega_{r} t + 2.0943951023932 \\right)} & Msr \\cos{\\left(\\omega_{r} t - 2.0943951023932 \\right)}\\\\Msr \\cos{\\left(\\omega_{r} t - 2.0943951023932 \\right)} & Msr \\cos{\\left(\\omega_{r} t \\right)} & Msr \\cos{\\left(\\omega_{r} t + 2.0943951023932 \\right)}\\\\Msr \\cos{\\left(\\omega_{r} t + 2.0943951023932 \\right)} & Msr \\cos{\\left(\\omega_{r} t - 2.0943951023932 \\right)} & Msr \\cos{\\left(\\omega_{r} t \\right)}\\end{matrix}\\right]$"
          },
          "metadata": {},
          "execution_count": 44
        }
      ]
    },
    {
      "cell_type": "code",
      "source": [
        "Lrsabc = Lsrabc.T\n",
        "Lrsabc"
      ],
      "metadata": {
        "colab": {
          "base_uri": "https://localhost:8080/",
          "height": 78
        },
        "id": "CHQ9QVnwnfD3",
        "outputId": "f1fdf097-e8bc-442a-908f-3c029afd8f4b"
      },
      "execution_count": null,
      "outputs": [
        {
          "output_type": "execute_result",
          "data": {
            "text/plain": [
              "Matrix([\n",
              "[                  Msr*cos(omega_r*t), Msr*cos(omega_r*t - 2.0943951023932), Msr*cos(omega_r*t + 2.0943951023932)],\n",
              "[Msr*cos(omega_r*t + 2.0943951023932),                   Msr*cos(omega_r*t), Msr*cos(omega_r*t - 2.0943951023932)],\n",
              "[Msr*cos(omega_r*t - 2.0943951023932), Msr*cos(omega_r*t + 2.0943951023932),                   Msr*cos(omega_r*t)]])"
            ],
            "text/latex": "$\\displaystyle \\left[\\begin{matrix}Msr \\cos{\\left(\\omega_{r} t \\right)} & Msr \\cos{\\left(\\omega_{r} t - 2.0943951023932 \\right)} & Msr \\cos{\\left(\\omega_{r} t + 2.0943951023932 \\right)}\\\\Msr \\cos{\\left(\\omega_{r} t + 2.0943951023932 \\right)} & Msr \\cos{\\left(\\omega_{r} t \\right)} & Msr \\cos{\\left(\\omega_{r} t - 2.0943951023932 \\right)}\\\\Msr \\cos{\\left(\\omega_{r} t - 2.0943951023932 \\right)} & Msr \\cos{\\left(\\omega_{r} t + 2.0943951023932 \\right)} & Msr \\cos{\\left(\\omega_{r} t \\right)}\\end{matrix}\\right]$"
          },
          "metadata": {},
          "execution_count": 45
        }
      ]
    },
    {
      "cell_type": "code",
      "source": [
        "Rsabc=Matrix([[Rs, 0, 0], [0, Rs, 0], [0, 0, Rs]])\n",
        "Rsabc"
      ],
      "metadata": {
        "colab": {
          "base_uri": "https://localhost:8080/",
          "height": 78
        },
        "id": "yE8ab0esngw_",
        "outputId": "2470f813-047a-4914-84a1-2fa519c58bc2"
      },
      "execution_count": null,
      "outputs": [
        {
          "output_type": "execute_result",
          "data": {
            "text/plain": [
              "Matrix([\n",
              "[Rs,  0,  0],\n",
              "[ 0, Rs,  0],\n",
              "[ 0,  0, Rs]])"
            ],
            "text/latex": "$\\displaystyle \\left[\\begin{matrix}Rs & 0 & 0\\\\0 & Rs & 0\\\\0 & 0 & Rs\\end{matrix}\\right]$"
          },
          "metadata": {},
          "execution_count": 46
        }
      ]
    },
    {
      "cell_type": "code",
      "source": [
        "Rrabc=Matrix([[Rr, 0, 0], [0, Rr, 0], [0, 0, Rr]])\n",
        "Rrabc"
      ],
      "metadata": {
        "colab": {
          "base_uri": "https://localhost:8080/",
          "height": 78
        },
        "id": "xgRqqeqInp0H",
        "outputId": "62e88240-4f56-4fa9-e8d2-808f9edf7f23"
      },
      "execution_count": null,
      "outputs": [
        {
          "output_type": "execute_result",
          "data": {
            "text/plain": [
              "Matrix([\n",
              "[Rr,  0,  0],\n",
              "[ 0, Rr,  0],\n",
              "[ 0,  0, Rr]])"
            ],
            "text/latex": "$\\displaystyle \\left[\\begin{matrix}Rr & 0 & 0\\\\0 & Rr & 0\\\\0 & 0 & Rr\\end{matrix}\\right]$"
          },
          "metadata": {},
          "execution_count": 47
        }
      ]
    },
    {
      "cell_type": "code",
      "source": [
        "# Declaring space phasor matrix for stator and rotor in abc domain\n",
        "#spsabc = (2/3)*Matrix([[exp(1j*0), exp(1j*2*sym.pi/3), exp(-1j*2*sym.pi/3)]])\n",
        "spsabc = (2/3)*Matrix([[exp(1j*0), exp(1j*2*np.pi/3), exp(-1j*2*np.pi/3)]])\n",
        "sprabc = spsabc\n",
        "#sprabc = (2/3)*Matrix([[exp(1j*(0-theta_r)), exp(1j*(2*sym.pi/3-theta_r)), exp(-1j*(2*sym.pi/3-theta_r))]])\n",
        "#sprabc = (2/3)*Matrix([[exp(1j*(0-theta_r)), exp(1j*(2*np.pi/3-theta_r)), exp(-1j*(2*np.pi/3-theta_r))]])\n",
        "\n",
        "# Declaring all state vectors in abc domain\n",
        "Vsabc = Matrix([[Vas], [Vbs], [Vcs]])\n",
        "Vrabc = Matrix([[Var], [Vbr], [Vcr]])\n",
        "isabc = Matrix([[ias], [ibs], [ics]])\n",
        "irabc = Matrix([[iar], [ibr], [icr]])\n",
        "Lambdasabc = Matrix([[lambda_as], [lambda_bs], [lambda_cs]])\n",
        "Lambdarabc = Matrix([[lambda_ar], [lambda_br], [lambda_cr]])\n",
        "\n",
        "# Declaring the convention of the arbitrary reference frame of transformation\n",
        "conv = 3\n",
        "# kd= np.sqrt(2/3)\n",
        "# kq= np.sqrt(2/3)\n",
        "# k0= np.sqrt(1/3)\n",
        "\n",
        "if conv==1:\n",
        "    psi = 0\n",
        "   # sigma = 1\n",
        "elif conv==2:\n",
        "    psi = np.pi/2\n",
        "#    psi = sym.pi/2\n",
        "   # sigma = 1\n",
        "elif conv==3:\n",
        "    psi = 0\n",
        "   # sigma = -1\n",
        "else:\n",
        "    psi = -np.pi/2\n",
        "#    psi = -sym.pi/2\n",
        "   # sigma = -1\n",
        "\n",
        "# Assigning the state vectors the values as per the KVL equations\n",
        "Vsabc = Rsabc*isabc+Lambdasabc.diff(t)\n",
        "Vrabc = Rrabc*irabc+Lambdarabc.diff(t)\n",
        "Vsabc"
      ],
      "metadata": {
        "id": "oACxYP6qoXGX",
        "colab": {
          "base_uri": "https://localhost:8080/",
          "height": 80
        },
        "outputId": "52b9be4c-ccc6-443d-d78e-a95bdfdf9c7f"
      },
      "execution_count": null,
      "outputs": [
        {
          "output_type": "execute_result",
          "data": {
            "text/plain": [
              "Matrix([\n",
              "[Rs*ias(t) + Derivative(lambda_as(t), t)],\n",
              "[Rs*ibs(t) + Derivative(lambda_bs(t), t)],\n",
              "[Rs*ics(t) + Derivative(lambda_cs(t), t)]])"
            ],
            "text/latex": "$\\displaystyle \\left[\\begin{matrix}Rs \\operatorname{ias}{\\left(t \\right)} + \\frac{d}{d t} \\lambda_{as}{\\left(t \\right)}\\\\Rs \\operatorname{ibs}{\\left(t \\right)} + \\frac{d}{d t} \\lambda_{bs}{\\left(t \\right)}\\\\Rs \\operatorname{ics}{\\left(t \\right)} + \\frac{d}{d t} \\lambda_{cs}{\\left(t \\right)}\\end{matrix}\\right]$"
          },
          "metadata": {},
          "execution_count": 48
        }
      ]
    },
    {
      "cell_type": "code",
      "source": [
        "# Defining the space phasor of stator voltage in stator abc reference frame\n",
        "V_abcs = spsabc*Vsabc\n",
        "V_abcs=(expand(collect(V_abcs[0],Rs))).subs({expand(Rs*((spsabc*isabc)[0])):Rs*i_abcs,(expand(collect(V_abcs[0],Rs))-expand(Rs*((spsabc*isabc)[0]))):Lambda_abcs.diff(t)})\n",
        "print(\"V_abcs=\",V_abcs)\n",
        "\n",
        "# Defining the space phasor of rotor voltage in rotor abc reference frame\n",
        "V_abcr = sprabc*Vrabc\n",
        "V_abcr=(expand(collect(V_abcr[0],Rr))).subs({expand(Rr*((sprabc*irabc)[0])):Rr*i_abcr,(expand(collect(V_abcr[0],Rr))-expand(Rr*((sprabc*irabc)[0]))):Lambda_abcr.diff(t)})\n",
        "print(\"V_abcr=\",V_abcr)"
      ],
      "metadata": {
        "id": "Xx9HXSiOomLO",
        "colab": {
          "base_uri": "https://localhost:8080/"
        },
        "outputId": "f114dd9c-6119-4972-8c48-1a5904b82178"
      },
      "execution_count": null,
      "outputs": [
        {
          "output_type": "stream",
          "name": "stdout",
          "text": [
            "V_abcs= Rs*i_abcs(t) + Derivative(Lambda_abcs(t), t)\n",
            "V_abcr= Rr*i_abcr(t) + Derivative(Lambda_abcr(t), t)\n"
          ]
        }
      ]
    },
    {
      "cell_type": "code",
      "source": [
        "# Defining the space phasor of rotor voltage in stator abc reference frame\n",
        "V_abcrs = expand(simplify((V_abcr.subs({i_abcr:exp(-1j*theta_r)*i_abcrs,Lambda_abcr:exp(-1j*theta_r)*Lambda_abcrs}))*exp(1j*theta_r)))\n",
        "print(\"V_abcrs=\",V_abcrs)"
      ],
      "metadata": {
        "colab": {
          "base_uri": "https://localhost:8080/"
        },
        "id": "NrmsEw_p3nrr",
        "outputId": "2249f9db-e50c-4a10-c351-44e14356a5ef"
      },
      "execution_count": null,
      "outputs": [
        {
          "output_type": "stream",
          "name": "stdout",
          "text": [
            "V_abcrs= Rr*i_abcrs(t) - 1.0*I*omega_r*Lambda_abcrs(t) + Derivative(Lambda_abcrs(t), t)\n"
          ]
        }
      ]
    },
    {
      "cell_type": "code",
      "source": [
        "# Defining the space phasor of stator voltage in stator dq reference frame using the space phasor reference frame transformation\n",
        "V_dqs= expand(simplify((V_abcs.subs({i_abcs:i_dqs*exp(1j*(theta+psi)),Lambda_abcs:Lambda_dqs*exp(1j*(theta+psi))}))*exp(-1j*(theta+psi))))\n",
        "print(\"V_dqs=\",V_dqs)\n",
        "\n",
        "# Defining the space phasor of rotor voltage in stator dq reference frame using the space phasor reference frame transformation\n",
        "V_dqrs= collect(expand(simplify((V_abcrs.subs({i_abcrs:i_dqrs*exp(1j*(theta+psi)),Lambda_abcrs:Lambda_dqrs*exp(1j*(theta+psi))}))*exp(-1j*(theta+psi)))),Lambda_dqrs)\n",
        "print(\"V_dqrs=\",V_dqrs)"
      ],
      "metadata": {
        "colab": {
          "base_uri": "https://localhost:8080/"
        },
        "id": "Tf4_yt5c6OwS",
        "outputId": "6f2d814e-e2d6-485b-f4b4-cb1db78deee3"
      },
      "execution_count": null,
      "outputs": [
        {
          "output_type": "stream",
          "name": "stdout",
          "text": [
            "V_dqs= Rs*i_dqs(t) + 1.0*I*omega*Lambda_dqs(t) + Derivative(Lambda_dqs(t), t)\n",
            "V_dqrs= Rr*i_dqrs(t) + (1.0*I*omega - 1.0*I*omega_r)*Lambda_dqrs(t) + Derivative(Lambda_dqrs(t), t)\n"
          ]
        }
      ]
    },
    {
      "cell_type": "code",
      "source": [
        "if conv==1:\n",
        "    V_dqs=simplify(expand(V_dqs.subs({i_dqs:(ids-1j*iqs),Lambda_dqs:(lambda_ds-1j*lambda_qs)})))\n",
        "    V_dqrs=simplify(expand(V_dqrs.subs({i_dqrs:(idrs-1j*iqrs),Lambda_dqrs:(lambda_drs-1j*lambda_qrs)})))\n",
        "\n",
        "    Vds = simplify(expand(re(V_dqs)))\n",
        "    Vqs = -simplify(expand(im(V_dqs)))\n",
        "    Vdrs = collect(simplify(expand(re(V_dqrs))),lambda_qrs)\n",
        "    Vqrs = -collect(simplify(expand(im(V_dqrs))),lambda_drs)\n",
        "    # ids-1j*iqs = i_dqs\n",
        "elif conv==2:\n",
        "    V_dqs=simplify(expand(V_dqs.subs({i_dqs:(1j*ids+iqs),Lambda_dqs:(1j*lambda_ds+lambda_qs)})))\n",
        "    V_dqrs=simplify(expand(V_dqrs.subs({i_dqrs:(1j*idrs+iqrs),Lambda_dqrs:(1j*lambda_drs+lambda_qrs)})))\n",
        "\n",
        "    Vds = simplify(expand(im(V_dqs)))\n",
        "    Vqs = simplify(expand(re(V_dqs)))\n",
        "    Vdrs = collect(simplify(expand(im(V_dqrs))),lambda_qrs)\n",
        "    Vqrs = collect(simplify(expand(re(V_dqrs))),lambda_drs)\n",
        "    # 1j*ids+iqs = i_dqs\n",
        "elif conv==3:\n",
        "    V_dqs=simplify(expand(V_dqs.subs({i_dqs:(ids+1j*iqs),Lambda_dqs:(lambda_ds+1j*lambda_qs)})))\n",
        "    V_dqrs=simplify(expand(V_dqrs.subs({i_dqrs:(idrs+1j*iqrs),Lambda_dqrs:(lambda_drs+1j*lambda_qrs)})))\n",
        "\n",
        "    Vds = simplify(expand(re(V_dqs)))\n",
        "    Vqs = simplify(expand(im(V_dqs)))\n",
        "    Vdrs = collect(simplify(expand(re(V_dqrs))),lambda_qrs)\n",
        "    Vqrs = collect(simplify(expand(im(V_dqrs))),lambda_drs)\n",
        "    # ids+1j*iqs = i_dqs\n",
        "else:\n",
        "    V_dqs=simplify(expand(V_dqs.subs({i_dqs:(-1j*ids+iqs),Lambda_dqs:(-1j*lambda_ds+lambda_qs)})))\n",
        "    V_dqrs=simplify(expand(V_dqrs.subs({i_dqrs:(-1j*idrs+iqrs),Lambda_dqrs:(-1j*lambda_drs+lambda_qrs)})))\n",
        "\n",
        "    Vds = -simplify(expand(im(V_dqs)))\n",
        "    Vqs = simplify(expand(re(V_dqs)))\n",
        "    Vdrs = -collect(simplify(expand(im(V_dqrs))),lambda_qrs)\n",
        "    Vqrs = collect(simplify(expand(re(V_dqrs))),lambda_drs)\n",
        "    # -1j*ids+iqs = i_dqs\n",
        "#print(\"V_dqs=\",V_dqs)\n",
        "Vds"
      ],
      "metadata": {
        "colab": {
          "base_uri": "https://localhost:8080/",
          "height": 58
        },
        "id": "Uzh058mp0qo9",
        "outputId": "df923ef7-b0c9-47e1-9608-5b921c51883b"
      },
      "execution_count": null,
      "outputs": [
        {
          "output_type": "execute_result",
          "data": {
            "text/plain": [
              "1.0*Rs*ids(t) - 1.0*omega*lambda_qs(t) + 1.0*re(Derivative(lambda_ds(t), t)) - 1.0*im(Derivative(lambda_qs(t), t))"
            ],
            "text/latex": "$\\displaystyle 1.0 Rs \\operatorname{ids}{\\left(t \\right)} - 1.0 \\omega \\lambda_{qs}{\\left(t \\right)} + 1.0 \\operatorname{re}{\\left(\\frac{d}{d t} \\lambda_{ds}{\\left(t \\right)}\\right)} - 1.0 \\operatorname{im}{\\left(\\frac{d}{d t} \\lambda_{qs}{\\left(t \\right)}\\right)}$"
          },
          "metadata": {},
          "execution_count": 52
        }
      ]
    },
    {
      "cell_type": "code",
      "source": [
        "Vqs"
      ],
      "metadata": {
        "colab": {
          "base_uri": "https://localhost:8080/",
          "height": 58
        },
        "id": "WI40EPOY1u08",
        "outputId": "972eff2d-fdfa-43a4-c37e-d6285ddc3862"
      },
      "execution_count": null,
      "outputs": [
        {
          "output_type": "execute_result",
          "data": {
            "text/plain": [
              "1.0*Rs*iqs(t) + 1.0*omega*lambda_ds(t) + 1.0*re(Derivative(lambda_qs(t), t)) + 1.0*im(Derivative(lambda_ds(t), t))"
            ],
            "text/latex": "$\\displaystyle 1.0 Rs \\operatorname{iqs}{\\left(t \\right)} + 1.0 \\omega \\lambda_{ds}{\\left(t \\right)} + 1.0 \\operatorname{re}{\\left(\\frac{d}{d t} \\lambda_{qs}{\\left(t \\right)}\\right)} + 1.0 \\operatorname{im}{\\left(\\frac{d}{d t} \\lambda_{ds}{\\left(t \\right)}\\right)}$"
          },
          "metadata": {},
          "execution_count": 53
        }
      ]
    },
    {
      "cell_type": "code",
      "source": [
        "Vdrs"
      ],
      "metadata": {
        "colab": {
          "base_uri": "https://localhost:8080/",
          "height": 58
        },
        "id": "SIFlnu5x1wV5",
        "outputId": "9d5a7ef8-ed4b-4403-f37c-78b0cecb9d6c"
      },
      "execution_count": null,
      "outputs": [
        {
          "output_type": "execute_result",
          "data": {
            "text/plain": [
              "1.0*Rr*idrs(t) + (-1.0*omega + 1.0*omega_r)*lambda_qrs(t) + 1.0*re(Derivative(lambda_drs(t), t)) - 1.0*im(Derivative(lambda_qrs(t), t))"
            ],
            "text/latex": "$\\displaystyle 1.0 Rr \\operatorname{idrs}{\\left(t \\right)} + \\left(- 1.0 \\omega + 1.0 \\omega_{r}\\right) \\lambda_{qrs}{\\left(t \\right)} + 1.0 \\operatorname{re}{\\left(\\frac{d}{d t} \\lambda_{drs}{\\left(t \\right)}\\right)} - 1.0 \\operatorname{im}{\\left(\\frac{d}{d t} \\lambda_{qrs}{\\left(t \\right)}\\right)}$"
          },
          "metadata": {},
          "execution_count": 54
        }
      ]
    },
    {
      "cell_type": "code",
      "source": [
        "Vqrs"
      ],
      "metadata": {
        "colab": {
          "base_uri": "https://localhost:8080/",
          "height": 58
        },
        "id": "8WTXjFo21xHE",
        "outputId": "fd96215e-dead-4b92-fc44-687cdab8ea8a"
      },
      "execution_count": null,
      "outputs": [
        {
          "output_type": "execute_result",
          "data": {
            "text/plain": [
              "1.0*Rr*iqrs(t) + (1.0*omega - 1.0*omega_r)*lambda_drs(t) + 1.0*re(Derivative(lambda_qrs(t), t)) + 1.0*im(Derivative(lambda_drs(t), t))"
            ],
            "text/latex": "$\\displaystyle 1.0 Rr \\operatorname{iqrs}{\\left(t \\right)} + \\left(1.0 \\omega - 1.0 \\omega_{r}\\right) \\lambda_{drs}{\\left(t \\right)} + 1.0 \\operatorname{re}{\\left(\\frac{d}{d t} \\lambda_{qrs}{\\left(t \\right)}\\right)} + 1.0 \\operatorname{im}{\\left(\\frac{d}{d t} \\lambda_{drs}{\\left(t \\right)}\\right)}$"
          },
          "metadata": {},
          "execution_count": 55
        }
      ]
    },
    {
      "cell_type": "code",
      "source": [
        "Lambdasabc = Lssabc*isabc+Lsrabc*irabc\n",
        "temp=collect(collect(collect(collect(collect(collect(collect(collect(collect(collect(collect(collect(expand((spsabc*Lambdasabc)[0]),Lls),Lms),Msr),sym.cos(theta_r)),sym.cos(theta_r+2*np.pi/3)),sym.cos(theta_r-2*np.pi/3)),ias),ibs),ics),iar),ibr),icr)\n",
        "temp=temp.subs({((2/3)-(1/3)*exp(1j*2*np.pi/3)-(1/3)*exp(-1j*2*np.pi/3)):(1),(-(1/3)-(1/3)*exp(-1j*2*np.pi/3)):(1/3)*exp(1j*2*np.pi/3),(-(1/3)-(1/3)*exp(1j*2*np.pi/3)):(1/3)*exp(-1j*2*np.pi/3)})\n",
        "temp=(collect((temp.subs({Lls*((spsabc*isabc)[0]):Lls*i_abcs,Lms:(2/3)*Lms})),Lms)).subs(Lms*((spsabc*isabc)[0]),(3/2)*Lms*i_abcs)\n",
        "Lambda_abcs=collect((temp).subs((collect(temp,Msr))-Lls*i_abcs-(3/2)*Lms*i_abcs,(3/2)*Msr*i_abcrs),i_abcs)\n",
        "print(\"Lambda_abcs=\",Lambda_abcs)\n",
        "\n",
        "Lambdarabc = Lrsabc*isabc+Lrrabc*irabc\n",
        "temp1=collect(collect(collect(collect(collect(collect(collect(collect(collect(collect(collect(collect(expand((sprabc*Lambdarabc)[0]),Llr),Lmr),Msr),sym.cos(theta_r)),sym.cos(theta_r+2*np.pi/3)),sym.cos(theta_r-2*np.pi/3)),ias),ibs),ics),iar),ibr),icr)\n",
        "temp1=temp1.subs({((2/3)-(1/3)*exp(1j*2*np.pi/3)-(1/3)*exp(-1j*2*np.pi/3)):(1),(-(1/3)-(1/3)*exp(-1j*2*np.pi/3)):(1/3)*exp(1j*2*np.pi/3),(-(1/3)-(1/3)*exp(1j*2*np.pi/3)):(1/3)*exp(-1j*2*np.pi/3)})\n",
        "temp1=(collect((temp1.subs({Llr*((sprabc*irabc)[0]):Llr*i_abcr,Lmr:(2/3)*Lmr})),Lmr)).subs(Lmr*((sprabc*irabc)[0]),(3/2)*Lmr*i_abcr)\n",
        "Lambda_abcr=collect((temp1).subs((collect(temp1,Msr))-Llr*i_abcr-(3/2)*Lmr*i_abcr,(3/2)*Msr*i_abcs*exp(-1j*theta_r)),i_abcr)\n",
        "Lambda_abcrs=collect(expand(Lambda_abcr*exp(1j*theta_r)).subs(i_abcr*exp(1j*theta_r),i_abcrs),i_abcrs)\n",
        "print(\"Lambda_abcrs=\",Lambda_abcrs)"
      ],
      "metadata": {
        "colab": {
          "base_uri": "https://localhost:8080/"
        },
        "id": "cQM7JcS-4zUv",
        "outputId": "351ba855-efdf-414a-ef55-e8b8c3444fba"
      },
      "execution_count": null,
      "outputs": [
        {
          "output_type": "stream",
          "name": "stdout",
          "text": [
            "Lambda_abcs= 1.5*Msr*i_abcrs(t) + (Lls + 1.5*Lms)*i_abcs(t)\n",
            "Lambda_abcrs= 1.5*Msr*i_abcs(t) + (Llr + 1.5*Lmr)*i_abcrs(t)\n"
          ]
        }
      ]
    },
    {
      "cell_type": "code",
      "source": [
        "Lambda_dqs=collect(expand((Lambda_abcs.subs({i_abcs:i_dqs*exp(1j*(theta+psi)),i_abcrs:i_dqrs*exp(1j*(theta+psi))}))*exp(-1j*(theta+psi))),i_dqs)\n",
        "print(\"Lambda_dqs=\",Lambda_dqs)\n",
        "Lambda_dqrs=collect(expand((Lambda_abcrs.subs({i_abcs:i_dqs*exp(1j*(theta+psi)),i_abcrs:i_dqrs*exp(1j*(theta+psi))}))*exp(-1j*(theta+psi))),i_dqrs)\n",
        "print(\"Lambda_dqrs=\",Lambda_dqrs)"
      ],
      "metadata": {
        "colab": {
          "base_uri": "https://localhost:8080/"
        },
        "id": "3HBlCKT50onA",
        "outputId": "6b17a1a4-7c6a-4611-cccd-21cb918f11e0"
      },
      "execution_count": null,
      "outputs": [
        {
          "output_type": "stream",
          "name": "stdout",
          "text": [
            "Lambda_dqs= 1.5*Msr*i_dqrs(t) + (Lls + 1.5*Lms)*i_dqs(t)\n",
            "Lambda_dqrs= 1.5*Msr*i_dqs(t) + (Llr + 1.5*Lmr)*i_dqrs(t)\n"
          ]
        }
      ]
    },
    {
      "cell_type": "code",
      "source": [
        "if conv==1:\n",
        "    Lambda_dqs=simplify(expand(Lambda_dqs.subs({i_dqs:(ids-1j*iqs),i_dqrs:(idrs-1j*iqrs)})))\n",
        "    Lambda_dqrs=simplify(expand(Lambda_dqrs.subs({i_dqs:(ids-1j*iqs),i_dqrs:(idrs-1j*iqrs)})))\n",
        "\n",
        "    lambda_ds = collect(simplify(expand(re(Lambda_dqs))),ids)\n",
        "    lambda_qs = -collect(simplify(expand(im(Lambda_dqs))),iqs)\n",
        "    lambda_drs = collect(simplify(expand(re(Lambda_dqrs))),idrs)\n",
        "    lambda_qrs = -collect(simplify(expand(im(Lambda_dqrs))),iqrs)\n",
        "\n",
        "    # ids-1j*iqs = i_dqs\n",
        "    # idrs-1j*iqrs = i_dqrs\n",
        "elif conv==2:\n",
        "    Lambda_dqs=simplify(expand(Lambda_dqs.subs({i_dqs:(1j*ids+iqs),i_dqrs:(1j*idrs+iqrs)})))\n",
        "    Lambda_dqrs=simplify(expand(Lambda_dqrs.subs({i_dqs:(1j*ids+iqs),i_dqrs:(1j*idrs+iqrs)})))\n",
        "    \n",
        "    lambda_ds = collect(simplify(expand(im(Lambda_dqs))),ids)\n",
        "    lambda_qs = collect(simplify(expand(re(Lambda_dqs))),iqs)\n",
        "    lambda_drs = collect(simplify(expand(im(Lambda_dqrs))),idrs)\n",
        "    lambda_qrs = collect(simplify(expand(re(Lambda_dqrs))),iqrs)\n",
        "\n",
        "    # 1j*ids+iqs = i_dqs\n",
        "    # 1j*idrs+iqrs = i_dqrs\n",
        "elif conv==3:\n",
        "    Lambda_dqs=simplify(expand(Lambda_dqs.subs({i_dqs:(ids+1j*iqs),i_dqrs:(idrs+1j*iqrs)})))\n",
        "    Lambda_dqrs=simplify(expand(Lambda_dqrs.subs({i_dqs:(ids+1j*iqs),i_dqrs:(idrs+1j*iqrs)})))\n",
        "    \n",
        "    lambda_ds = collect(simplify(expand(re(Lambda_dqs))),ids)\n",
        "    lambda_qs = collect(simplify(expand(im(Lambda_dqs))),iqs)\n",
        "    lambda_drs = collect(simplify(expand(re(Lambda_dqrs))),idrs)\n",
        "    lambda_qrs = collect(simplify(expand(im(Lambda_dqrs))),iqrs)\n",
        "\n",
        "    # ids+1j*iqs = i_dqs\n",
        "    # idrs+1j*iqrs = i_dqrs\n",
        "else:\n",
        "    Lambda_dqs=simplify(expand(Lambda_dqs.subs({i_dqs:(-1j*ids+iqs),i_dqrs:(-1j*idrs+iqrs)})))\n",
        "    Lambda_dqrs=simplify(expand(Lambda_dqrs.subs({i_dqs:(-1j*ids+iqs),i_dqrs:(-1j*idrs+iqrs)})))\n",
        "    \n",
        "    lambda_ds = -collect(simplify(expand(im(Lambda_dqs))),ids)\n",
        "    lambda_qs = collect(simplify(expand(re(Lambda_dqs))),iqs)\n",
        "    lambda_drs = -collect(simplify(expand(im(Lambda_dqrs))),idrs)\n",
        "    lambda_qrs = collect(simplify(expand(re(Lambda_dqrs))),iqrs)\n",
        "\n",
        "    # -1j*ids+iqs = i_dqs\n",
        "    # -1j*idrs+iqrs = i_dqrs\n",
        "#print(\"lambda_ds=\",lambda_ds)\n",
        "lambda_ds"
      ],
      "metadata": {
        "colab": {
          "base_uri": "https://localhost:8080/",
          "height": 39
        },
        "id": "BxOgtxTmF7OX",
        "outputId": "65b615e6-a582-4e75-e534-9800caef56bd"
      },
      "execution_count": null,
      "outputs": [
        {
          "output_type": "execute_result",
          "data": {
            "text/plain": [
              "1.5*Msr*idrs(t) + (Lls + 1.5*Lms)*ids(t)"
            ],
            "text/latex": "$\\displaystyle 1.5 Msr \\operatorname{idrs}{\\left(t \\right)} + \\left(Lls + 1.5 Lms\\right) \\operatorname{ids}{\\left(t \\right)}$"
          },
          "metadata": {},
          "execution_count": 58
        }
      ]
    },
    {
      "cell_type": "code",
      "source": [
        "lambda_qs"
      ],
      "metadata": {
        "colab": {
          "base_uri": "https://localhost:8080/",
          "height": 39
        },
        "id": "EFlrJnviSvm7",
        "outputId": "851091c6-fec9-43d4-8e27-4b85995e307b"
      },
      "execution_count": null,
      "outputs": [
        {
          "output_type": "execute_result",
          "data": {
            "text/plain": [
              "1.5*Msr*iqrs(t) + (1.0*Lls + 1.5*Lms)*iqs(t)"
            ],
            "text/latex": "$\\displaystyle 1.5 Msr \\operatorname{iqrs}{\\left(t \\right)} + \\left(1.0 Lls + 1.5 Lms\\right) \\operatorname{iqs}{\\left(t \\right)}$"
          },
          "metadata": {},
          "execution_count": 59
        }
      ]
    },
    {
      "cell_type": "code",
      "source": [
        "lambda_drs"
      ],
      "metadata": {
        "colab": {
          "base_uri": "https://localhost:8080/",
          "height": 39
        },
        "id": "uIgt4BdKSxHE",
        "outputId": "4085c550-a6dc-4614-e1e6-59af3504e54a"
      },
      "execution_count": null,
      "outputs": [
        {
          "output_type": "execute_result",
          "data": {
            "text/plain": [
              "1.5*Msr*ids(t) + (Llr + 1.5*Lmr)*idrs(t)"
            ],
            "text/latex": "$\\displaystyle 1.5 Msr \\operatorname{ids}{\\left(t \\right)} + \\left(Llr + 1.5 Lmr\\right) \\operatorname{idrs}{\\left(t \\right)}$"
          },
          "metadata": {},
          "execution_count": 60
        }
      ]
    },
    {
      "cell_type": "code",
      "source": [
        "lambda_qrs"
      ],
      "metadata": {
        "colab": {
          "base_uri": "https://localhost:8080/",
          "height": 39
        },
        "id": "OAb4pcFXSyN1",
        "outputId": "59530282-bbac-4f7f-dc81-deb45a4e5953"
      },
      "execution_count": null,
      "outputs": [
        {
          "output_type": "execute_result",
          "data": {
            "text/plain": [
              "1.5*Msr*iqs(t) + (1.0*Llr + 1.5*Lmr)*iqrs(t)"
            ],
            "text/latex": "$\\displaystyle 1.5 Msr \\operatorname{iqs}{\\left(t \\right)} + \\left(1.0 Llr + 1.5 Lmr\\right) \\operatorname{iqrs}{\\left(t \\right)}$"
          },
          "metadata": {},
          "execution_count": 61
        }
      ]
    }
  ]
}