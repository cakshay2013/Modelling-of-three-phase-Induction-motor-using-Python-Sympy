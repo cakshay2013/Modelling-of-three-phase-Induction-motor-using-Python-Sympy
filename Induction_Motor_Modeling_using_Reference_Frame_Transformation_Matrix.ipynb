{
  "nbformat": 4,
  "nbformat_minor": 0,
  "metadata": {
    "colab": {
      "provenance": []
    },
    "kernelspec": {
      "name": "python3",
      "display_name": "Python 3"
    },
    "language_info": {
      "name": "python"
    }
  },
  "cells": [
    {
      "cell_type": "code",
      "source": [
        "# Space phasor representation\n",
        "\n",
        "import numpy as np\n",
        "\n",
        "#from sympy.abc import x, y, z, a\n",
        "from sympy import MatrixSymbol, Matrix, nsimplify, exp\n",
        "from sympy.matrices import Matrix\n",
        "import sympy as sym\n",
        "from sympy import *\n",
        "#[Lls, Llr, Lms, Lmr, Msr, Rs, Rr, t, omega, omega_s, omega_r, theta, theta_s, theta_r] = sym.Symbol(['Lls', 'Llr', 'Lms', 'Lmr', 'Msr', 'Rs', 'Rr', 't', 'omega', 'omega_s', 'omega_r', 'theta', 'theta_s', 'theta_r'], real=true)\n",
        "Lls, Llr, Lms, Lmr, Msr, Rs, Rr, t, omega, omega_s, omega_r, theta, theta_s, theta_r = symbols('Lls Llr Lms Lmr Msr Rs Rr t omega omega_s omega_r theta theta_s theta_r', real=true)\n",
        "\n",
        "# Lls = sym.Symbol('Lls',real=True)\n",
        "# Llr = sym.Symbol('Llr',real=True)\n",
        "# Lms = sym.Symbol('Lms',real=True)\n",
        "# Lmr = sym.Symbol('Lmr',real=True)\n",
        "# Msr = sym.Symbol('Msr',real=True)\n",
        "# Rs = sym.Symbol('Rs',real=True)\n",
        "# Rr = sym.Symbol('Rr',real=True)\n",
        "# t = sym.Symbol('t',real=True)\n",
        "# omega = sym.Symbol('omega',real=True)\n",
        "# omega_s = sym.Symbol('omega_s',real=True)\n",
        "# omega_r = sym.Symbol('omega_r',real=True)\n",
        "# theta_r = sym.Symbol('theta_r',real=True)\n",
        "# theta_s = sym.Symbol('theta_s',real=True)\n",
        "# theta = sym.Symbol('theta',real=True)\n",
        "\n",
        "Vas=sym.Function('Vas',real=True)(t)\n",
        "Vbs=sym.Function('Vbs',real=True)(t)\n",
        "Vcs=sym.Function('Vcs',real=True)(t)\n",
        "Var=sym.Function('Var',real=True)(t)\n",
        "Vbr=sym.Function('Vbr',real=True)(t)\n",
        "Vcr=sym.Function('Vcr',real=True)(t)\n",
        "ias=sym.Function('ias',real=True)(t)\n",
        "ibs=sym.Function('ibs',real=True)(t)\n",
        "ics=sym.Function('ics',real=True)(t)\n",
        "iar=sym.Function('iar',real=True)(t)\n",
        "ibr=sym.Function('ibr',real=True)(t)\n",
        "icr=sym.Function('ict',real=True)(t)\n",
        "lambda_as=sym.Function('lambda_as',real=True)(t)\n",
        "lambda_bs=sym.Function('lambda_bs',real=True)(t)\n",
        "lambda_cs=sym.Function('lambda_cs',real=True)(t)\n",
        "lambda_ar=sym.Function('lambda_ar',real=True)(t)\n",
        "lambda_br=sym.Function('lambda_br',real=True)(t)\n",
        "lambda_cr=sym.Function('lambda_cr',real=True)(t)\n",
        "\n",
        "Vds=sym.Function('Vds',real=True)(t)\n",
        "Vqs=sym.Function('Vqs',real=True)(t)\n",
        "V0s=sym.Function('V0s',real=True)(t)\n",
        "Vdr=sym.Function('Vdr',real=True)(t)\n",
        "Vqr=sym.Function('Vqr',real=True)(t)\n",
        "V0r=sym.Function('V0r',real=True)(t)\n",
        "ids=sym.Function('ids',real=True)(t)\n",
        "iqs=sym.Function('iqs',real=True)(t)\n",
        "i0s=sym.Function('i0s',real=True)(t)\n",
        "idr=sym.Function('idr',real=True)(t)\n",
        "iqr=sym.Function('iqr',real=True)(t)\n",
        "i0r=sym.Function('i0r',real=True)(t)\n",
        "lambda_ds=sym.Function('lambda_ds',real=True)(t)\n",
        "lambda_qs=sym.Function('lambda_qs',real=True)(t)\n",
        "lambda_0s=sym.Function('lambda_0s',real=True)(t)\n",
        "lambda_dr=sym.Function('lambda_dr',real=True)(t)\n",
        "lambda_qr=sym.Function('lambda_qr',real=True)(t)\n",
        "lambda_0r=sym.Function('lambda_0r',real=True)(t)\n",
        "\n",
        "theta = omega*t\n",
        "theta_s = omega_s*t\n",
        "theta_r = omega_r*t\n",
        "\n",
        "Lssabc = Matrix([[Lls+Lms, -Lms/2, -Lms/2], [-Lms/2, Lls+Lms, -Lms/2], [-Lms/2, -Lms/2, Lls+Lms]])\n",
        "Lssabc"
      ],
      "metadata": {
        "colab": {
          "base_uri": "https://localhost:8080/",
          "height": 80
        },
        "id": "QT2oFJZbJkmv",
        "outputId": "eaafe15a-0c18-4f3f-f3e8-900abd256a0c"
      },
      "execution_count": null,
      "outputs": [
        {
          "output_type": "execute_result",
          "data": {
            "text/plain": [
              "Matrix([\n",
              "[Lls + Lms,    -Lms/2,    -Lms/2],\n",
              "[   -Lms/2, Lls + Lms,    -Lms/2],\n",
              "[   -Lms/2,    -Lms/2, Lls + Lms]])"
            ],
            "text/latex": "$\\displaystyle \\left[\\begin{matrix}Lls + Lms & - \\frac{Lms}{2} & - \\frac{Lms}{2}\\\\- \\frac{Lms}{2} & Lls + Lms & - \\frac{Lms}{2}\\\\- \\frac{Lms}{2} & - \\frac{Lms}{2} & Lls + Lms\\end{matrix}\\right]$"
          },
          "metadata": {},
          "execution_count": 69
        }
      ]
    },
    {
      "cell_type": "code",
      "source": [
        "Lrrabc = Matrix([[Llr+Lmr, -Lmr/2, -Lmr/2], [-Lmr/2, Llr+Lmr, -Lmr/2], [-Lmr/2, -Lmr/2, Llr+Lmr]])\n",
        "Lrrabc"
      ],
      "metadata": {
        "colab": {
          "base_uri": "https://localhost:8080/",
          "height": 80
        },
        "id": "Wyuo2v4trGAv",
        "outputId": "dc16ffa0-ca52-414a-c0e8-9f2c18565a05"
      },
      "execution_count": null,
      "outputs": [
        {
          "output_type": "execute_result",
          "data": {
            "text/plain": [
              "Matrix([\n",
              "[Llr + Lmr,    -Lmr/2,    -Lmr/2],\n",
              "[   -Lmr/2, Llr + Lmr,    -Lmr/2],\n",
              "[   -Lmr/2,    -Lmr/2, Llr + Lmr]])"
            ],
            "text/latex": "$\\displaystyle \\left[\\begin{matrix}Llr + Lmr & - \\frac{Lmr}{2} & - \\frac{Lmr}{2}\\\\- \\frac{Lmr}{2} & Llr + Lmr & - \\frac{Lmr}{2}\\\\- \\frac{Lmr}{2} & - \\frac{Lmr}{2} & Llr + Lmr\\end{matrix}\\right]$"
          },
          "metadata": {},
          "execution_count": 70
        }
      ]
    },
    {
      "cell_type": "code",
      "source": [
        "Lsrabc = Msr*Matrix([[sym.cos(theta_r), sym.cos(theta_r+2*sym.pi/3), sym.cos(theta_r-2*sym.pi/3)], [sym.cos(theta_r-2*sym.pi/3), sym.cos(theta_r), sym.cos(theta_r+2*sym.pi/3)], [sym.cos(theta_r+2*sym.pi/3), sym.cos(theta_r-2*sym.pi/3), sym.cos(theta_r)]])\n",
        "Lsrabc\n"
      ],
      "metadata": {
        "colab": {
          "base_uri": "https://localhost:8080/",
          "height": 78
        },
        "id": "ePjkv4zvIqiH",
        "outputId": "4d8e9ffb-fd30-4f1a-8911-101b995610fb"
      },
      "execution_count": null,
      "outputs": [
        {
          "output_type": "execute_result",
          "data": {
            "text/plain": [
              "Matrix([\n",
              "[        Msr*cos(omega_r*t), -Msr*sin(omega_r*t + pi/6), -Msr*cos(omega_r*t + pi/3)],\n",
              "[-Msr*cos(omega_r*t + pi/3),         Msr*cos(omega_r*t), -Msr*sin(omega_r*t + pi/6)],\n",
              "[-Msr*sin(omega_r*t + pi/6), -Msr*cos(omega_r*t + pi/3),         Msr*cos(omega_r*t)]])"
            ],
            "text/latex": "$\\displaystyle \\left[\\begin{matrix}Msr \\cos{\\left(\\omega_{r} t \\right)} & - Msr \\sin{\\left(\\omega_{r} t + \\frac{\\pi}{6} \\right)} & - Msr \\cos{\\left(\\omega_{r} t + \\frac{\\pi}{3} \\right)}\\\\- Msr \\cos{\\left(\\omega_{r} t + \\frac{\\pi}{3} \\right)} & Msr \\cos{\\left(\\omega_{r} t \\right)} & - Msr \\sin{\\left(\\omega_{r} t + \\frac{\\pi}{6} \\right)}\\\\- Msr \\sin{\\left(\\omega_{r} t + \\frac{\\pi}{6} \\right)} & - Msr \\cos{\\left(\\omega_{r} t + \\frac{\\pi}{3} \\right)} & Msr \\cos{\\left(\\omega_{r} t \\right)}\\end{matrix}\\right]$"
          },
          "metadata": {},
          "execution_count": 71
        }
      ]
    },
    {
      "cell_type": "code",
      "source": [
        "Lrsabc = Lsrabc.T\n",
        "Lrsabc"
      ],
      "metadata": {
        "colab": {
          "base_uri": "https://localhost:8080/",
          "height": 78
        },
        "id": "E3F-x3tlIuSm",
        "outputId": "86316654-3554-48f6-8276-631ebb64a893"
      },
      "execution_count": null,
      "outputs": [
        {
          "output_type": "execute_result",
          "data": {
            "text/plain": [
              "Matrix([\n",
              "[        Msr*cos(omega_r*t), -Msr*cos(omega_r*t + pi/3), -Msr*sin(omega_r*t + pi/6)],\n",
              "[-Msr*sin(omega_r*t + pi/6),         Msr*cos(omega_r*t), -Msr*cos(omega_r*t + pi/3)],\n",
              "[-Msr*cos(omega_r*t + pi/3), -Msr*sin(omega_r*t + pi/6),         Msr*cos(omega_r*t)]])"
            ],
            "text/latex": "$\\displaystyle \\left[\\begin{matrix}Msr \\cos{\\left(\\omega_{r} t \\right)} & - Msr \\cos{\\left(\\omega_{r} t + \\frac{\\pi}{3} \\right)} & - Msr \\sin{\\left(\\omega_{r} t + \\frac{\\pi}{6} \\right)}\\\\- Msr \\sin{\\left(\\omega_{r} t + \\frac{\\pi}{6} \\right)} & Msr \\cos{\\left(\\omega_{r} t \\right)} & - Msr \\cos{\\left(\\omega_{r} t + \\frac{\\pi}{3} \\right)}\\\\- Msr \\cos{\\left(\\omega_{r} t + \\frac{\\pi}{3} \\right)} & - Msr \\sin{\\left(\\omega_{r} t + \\frac{\\pi}{6} \\right)} & Msr \\cos{\\left(\\omega_{r} t \\right)}\\end{matrix}\\right]$"
          },
          "metadata": {},
          "execution_count": 72
        }
      ]
    },
    {
      "cell_type": "code",
      "source": [
        "conv = 3\n",
        "kd= np.sqrt(2/3)\n",
        "kq= np.sqrt(2/3)\n",
        "k0= np.sqrt(1/3)\n",
        "\n",
        "if conv==1:\n",
        "    psi = 0;\n",
        "    sigma = 1;\n",
        "elif conv==2:\n",
        "    psi = sym.pi/2;\n",
        "    sigma = 1;\n",
        "elif conv==3:\n",
        "    psi = 0;\n",
        "    sigma = -1;\n",
        "else:\n",
        "    psi = -sym.pi/2;\n",
        "    sigma = -1;\n",
        "\n",
        "Cs=Matrix([[kd*sym.cos(theta+psi), kd*sym.cos(theta+psi-2*sym.pi/3), kd*sym.cos(theta+psi+2*sym.pi/3)], [sigma*kq*sym.sin(theta+psi), sigma*kq*sym.sin(theta+psi-2*sym.pi/3), sigma*kq*sym.sin(theta+psi+2*sym.pi/3)], [k0, k0, k0]])\n",
        "Cs\n",
        "Cr=Matrix([[kd*sym.cos(theta-theta_r+psi), kd*sym.cos(theta-theta_r+psi-2*sym.pi/3), kd*sym.cos(theta-theta_r+psi+2*sym.pi/3)], [sigma*kq*sym.sin(theta-theta_r+psi), sigma*kq*sym.sin(theta-theta_r+psi-2*sym.pi/3), sigma*kq*sym.sin(theta-theta_r+psi+2*sym.pi/3)], [k0, k0, k0]])\n",
        "Cr\n",
        "\n",
        "k1 = 2/(3*kd)\n",
        "k2 = 2/(3*kq)\n",
        "k3 = 1/(3*k0)\n",
        "\n",
        "Csinv=Matrix([[k1*sym.cos(theta+psi), sigma*k2*sym.sin(theta+psi), k3], [k1*sym.cos(theta+psi-2*sym.pi/3), sigma*k2*sym.sin(theta+psi-2*sym.pi/3), k3], [k1*sym.cos(theta+psi+2*sym.pi/3), sigma*k2*sym.sin(theta+psi+2*sym.pi/3), k3]])\n",
        "#Csinv\n",
        "Crinv=Matrix([[k1*sym.cos(theta-theta_r+psi), sigma*k2*sym.sin(theta-theta_r+psi), k3], [k1*sym.cos(theta-theta_r+psi-2*sym.pi/3), sigma*k2*sym.sin(theta-theta_r+psi-2*sym.pi/3), k3], [k1*sym.cos(theta-theta_r+psi+2*sym.pi/3), sigma*k2*sym.sin(theta-theta_r+psi+2*sym.pi/3), k3]])\n",
        "#Crinv"
      ],
      "metadata": {
        "id": "to9_IZV4Ixn-"
      },
      "execution_count": null,
      "outputs": []
    },
    {
      "cell_type": "code",
      "source": [
        "Rsabc=Matrix([[Rs, 0, 0], [0, Rs, 0], [0, 0, Rs]])\n",
        "Rsabc"
      ],
      "metadata": {
        "colab": {
          "base_uri": "https://localhost:8080/",
          "height": 78
        },
        "id": "jL6fIYHaI12v",
        "outputId": "9b297b50-4b51-408a-efa2-1d6b56358fbb"
      },
      "execution_count": null,
      "outputs": [
        {
          "output_type": "execute_result",
          "data": {
            "text/plain": [
              "Matrix([\n",
              "[Rs,  0,  0],\n",
              "[ 0, Rs,  0],\n",
              "[ 0,  0, Rs]])"
            ],
            "text/latex": "$\\displaystyle \\left[\\begin{matrix}Rs & 0 & 0\\\\0 & Rs & 0\\\\0 & 0 & Rs\\end{matrix}\\right]$"
          },
          "metadata": {},
          "execution_count": 74
        }
      ]
    },
    {
      "cell_type": "code",
      "source": [
        "Rrabc=Matrix([[Rr, 0, 0], [0, Rr, 0], [0, 0, Rr]])\n",
        "Rrabc"
      ],
      "metadata": {
        "colab": {
          "base_uri": "https://localhost:8080/",
          "height": 78
        },
        "id": "3uQ9Jj3SKNse",
        "outputId": "4cd80fd6-acfe-4fc0-88ab-1dd903fde794"
      },
      "execution_count": null,
      "outputs": [
        {
          "output_type": "execute_result",
          "data": {
            "text/plain": [
              "Matrix([\n",
              "[Rr,  0,  0],\n",
              "[ 0, Rr,  0],\n",
              "[ 0,  0, Rr]])"
            ],
            "text/latex": "$\\displaystyle \\left[\\begin{matrix}Rr & 0 & 0\\\\0 & Rr & 0\\\\0 & 0 & Rr\\end{matrix}\\right]$"
          },
          "metadata": {},
          "execution_count": 75
        }
      ]
    },
    {
      "cell_type": "code",
      "source": [
        "Rsdq=sym.simplify(Cs*Rsabc*(Csinv))\n",
        "Rsdq=nsimplify(Rsdq,tolerance=1e-6,rational=True)\n",
        "Rsdq"
      ],
      "metadata": {
        "colab": {
          "base_uri": "https://localhost:8080/",
          "height": 78
        },
        "id": "zpBpRtLTJRrv",
        "outputId": "7f521840-8858-45a8-b0d0-a368babef883"
      },
      "execution_count": null,
      "outputs": [
        {
          "output_type": "execute_result",
          "data": {
            "text/plain": [
              "Matrix([\n",
              "[Rs,  0,  0],\n",
              "[ 0, Rs,  0],\n",
              "[ 0,  0, Rs]])"
            ],
            "text/latex": "$\\displaystyle \\left[\\begin{matrix}Rs & 0 & 0\\\\0 & Rs & 0\\\\0 & 0 & Rs\\end{matrix}\\right]$"
          },
          "metadata": {},
          "execution_count": 76
        }
      ]
    },
    {
      "cell_type": "code",
      "source": [
        "Rrdq=sym.simplify(Cr*Rrabc*(Crinv))\n",
        "Rrdq=nsimplify(Rrdq,tolerance=1e-6,rational=True)\n",
        "Rrdq"
      ],
      "metadata": {
        "colab": {
          "base_uri": "https://localhost:8080/",
          "height": 78
        },
        "id": "-Jazmu8EJUCu",
        "outputId": "a57f6ca8-172d-46c9-af10-e007c24e28e3"
      },
      "execution_count": null,
      "outputs": [
        {
          "output_type": "execute_result",
          "data": {
            "text/plain": [
              "Matrix([\n",
              "[Rr,  0,  0],\n",
              "[ 0, Rr,  0],\n",
              "[ 0,  0, Rr]])"
            ],
            "text/latex": "$\\displaystyle \\left[\\begin{matrix}Rr & 0 & 0\\\\0 & Rr & 0\\\\0 & 0 & Rr\\end{matrix}\\right]$"
          },
          "metadata": {},
          "execution_count": 77
        }
      ]
    },
    {
      "cell_type": "code",
      "source": [
        "Es = sym.simplify(Cs*Csinv.diff(t))\n",
        "Es=nsimplify(Es,tolerance=1e-6,rational=True)\n",
        "Es"
      ],
      "metadata": {
        "colab": {
          "base_uri": "https://localhost:8080/",
          "height": 78
        },
        "id": "_8ozYfZcJV9V",
        "outputId": "cd3d3e75-9dcd-4196-c53c-13a04b6c8556"
      },
      "execution_count": null,
      "outputs": [
        {
          "output_type": "execute_result",
          "data": {
            "text/plain": [
              "Matrix([\n",
              "[    0, -omega, 0],\n",
              "[omega,      0, 0],\n",
              "[    0,      0, 0]])"
            ],
            "text/latex": "$\\displaystyle \\left[\\begin{matrix}0 & - \\omega & 0\\\\\\omega & 0 & 0\\\\0 & 0 & 0\\end{matrix}\\right]$"
          },
          "metadata": {},
          "execution_count": 78
        }
      ]
    },
    {
      "cell_type": "code",
      "source": [
        "Er = sym.simplify(Cr*Crinv.diff(t))\n",
        "Er=nsimplify(Er,tolerance=1e-6,rational=True)\n",
        "Er"
      ],
      "metadata": {
        "colab": {
          "base_uri": "https://localhost:8080/",
          "height": 78
        },
        "id": "ND8-ZQPfJXx2",
        "outputId": "43009d35-320a-41a3-c9da-d43cd35cd46a"
      },
      "execution_count": null,
      "outputs": [
        {
          "output_type": "execute_result",
          "data": {
            "text/plain": [
              "Matrix([\n",
              "[              0, -omega + omega_r, 0],\n",
              "[omega - omega_r,                0, 0],\n",
              "[              0,                0, 0]])"
            ],
            "text/latex": "$\\displaystyle \\left[\\begin{matrix}0 & - \\omega + \\omega_{r} & 0\\\\\\omega - \\omega_{r} & 0 & 0\\\\0 & 0 & 0\\end{matrix}\\right]$"
          },
          "metadata": {},
          "execution_count": 79
        }
      ]
    },
    {
      "cell_type": "code",
      "source": [
        "Lssdq = sym.simplify(Cs*Lssabc*Csinv)\n",
        "Lssdq=nsimplify(Lssdq,tolerance=1e-6,rational=True)\n",
        "Lssdq"
      ],
      "metadata": {
        "colab": {
          "base_uri": "https://localhost:8080/",
          "height": 79
        },
        "id": "jGwTocGlJaKI",
        "outputId": "1331c778-c0b9-4640-973c-e412fc7e44f7"
      },
      "execution_count": null,
      "outputs": [
        {
          "output_type": "execute_result",
          "data": {
            "text/plain": [
              "Matrix([\n",
              "[Lls + 3*Lms/2,             0,   0],\n",
              "[            0, Lls + 3*Lms/2,   0],\n",
              "[            0,             0, Lls]])"
            ],
            "text/latex": "$\\displaystyle \\left[\\begin{matrix}Lls + \\frac{3 Lms}{2} & 0 & 0\\\\0 & Lls + \\frac{3 Lms}{2} & 0\\\\0 & 0 & Lls\\end{matrix}\\right]$"
          },
          "metadata": {},
          "execution_count": 80
        }
      ]
    },
    {
      "cell_type": "code",
      "source": [
        "Lrrdq = sym.simplify(Cr*Lrrabc*Crinv)\n",
        "Lrrdq=nsimplify(Lrrdq,tolerance=1e-6,rational=True)\n",
        "Lrrdq"
      ],
      "metadata": {
        "colab": {
          "base_uri": "https://localhost:8080/",
          "height": 79
        },
        "id": "tl0Wl19dJbpm",
        "outputId": "c8915f76-eb51-4f30-82eb-54db62f00c8e"
      },
      "execution_count": null,
      "outputs": [
        {
          "output_type": "execute_result",
          "data": {
            "text/plain": [
              "Matrix([\n",
              "[Llr + 3*Lmr/2,             0,   0],\n",
              "[            0, Llr + 3*Lmr/2,   0],\n",
              "[            0,             0, Llr]])"
            ],
            "text/latex": "$\\displaystyle \\left[\\begin{matrix}Llr + \\frac{3 Lmr}{2} & 0 & 0\\\\0 & Llr + \\frac{3 Lmr}{2} & 0\\\\0 & 0 & Llr\\end{matrix}\\right]$"
          },
          "metadata": {},
          "execution_count": 81
        }
      ]
    },
    {
      "cell_type": "code",
      "source": [
        "Lsrdq = sym.simplify(Cs*Lsrabc*Crinv)\n",
        "Lsrdq=nsimplify(Lsrdq,tolerance=1e-6,rational=True)\n",
        "Lsrdq"
      ],
      "metadata": {
        "colab": {
          "base_uri": "https://localhost:8080/",
          "height": 79
        },
        "id": "mqivTFHJJdL-",
        "outputId": "334ef152-c799-4289-94ce-928a7c900090"
      },
      "execution_count": null,
      "outputs": [
        {
          "output_type": "execute_result",
          "data": {
            "text/plain": [
              "Matrix([\n",
              "[3*Msr/2,       0, 0],\n",
              "[      0, 3*Msr/2, 0],\n",
              "[      0,       0, 0]])"
            ],
            "text/latex": "$\\displaystyle \\left[\\begin{matrix}\\frac{3 Msr}{2} & 0 & 0\\\\0 & \\frac{3 Msr}{2} & 0\\\\0 & 0 & 0\\end{matrix}\\right]$"
          },
          "metadata": {},
          "execution_count": 82
        }
      ]
    },
    {
      "cell_type": "code",
      "source": [
        "Lrsdq = sym.simplify(Cr*Lrsabc*Csinv)\n",
        "Lrsdq=nsimplify(Lrsdq,tolerance=1e-6,rational=True)\n",
        "Lrsdq"
      ],
      "metadata": {
        "colab": {
          "base_uri": "https://localhost:8080/",
          "height": 79
        },
        "id": "MYDgzhONJetm",
        "outputId": "58efc5bb-6ac4-4a94-cde7-deffdc7c46a1"
      },
      "execution_count": null,
      "outputs": [
        {
          "output_type": "execute_result",
          "data": {
            "text/plain": [
              "Matrix([\n",
              "[3*Msr/2,       0, 0],\n",
              "[      0, 3*Msr/2, 0],\n",
              "[      0,       0, 0]])"
            ],
            "text/latex": "$\\displaystyle \\left[\\begin{matrix}\\frac{3 Msr}{2} & 0 & 0\\\\0 & \\frac{3 Msr}{2} & 0\\\\0 & 0 & 0\\end{matrix}\\right]$"
          },
          "metadata": {},
          "execution_count": 83
        }
      ]
    },
    {
      "cell_type": "code",
      "source": [
        "Vsabc = Matrix([[Vas], [Vbs], [Vcs]])\n",
        "Vrabc = Matrix([[Var], [Vbr], [Vcr]])\n",
        "isabc = Matrix([[ias], [ibs], [ics]])\n",
        "irabc = Matrix([[iar], [ibr], [icr]])\n",
        "Lambdasabc = Matrix([[lambda_as], [lambda_bs], [lambda_cs]])\n",
        "Lambdarabc = Matrix([[lambda_ar], [lambda_br], [lambda_cr]])\n",
        "Vsdq = Matrix([[Vds], [Vqs], [V0s]])\n",
        "Vrdq = Matrix([[Vdr], [Vqr], [V0r]])\n",
        "isdq = Matrix([[ids], [iqs], [i0s]])\n",
        "irdq = Matrix([[idr], [iqr], [i0r]])\n",
        "Lambdasdq = Matrix([[lambda_ds], [lambda_qs], [lambda_0s]])\n",
        "Lambdardq = Matrix([[lambda_dr], [lambda_qr], [lambda_0r]])\n",
        "\n",
        "Lambdasabc = Lssabc*isabc+Lsrabc*irabc\n",
        "Lambdarabc = Lrsabc*isabc+Lrrabc*irabc\n",
        "Vsabc = Rsabc*isabc+Lambdasabc.diff(t)\n",
        "Vrabc = Rrabc*isabc+Lambdarabc.diff(t)"
      ],
      "metadata": {
        "id": "-kbkpJhfWLCf"
      },
      "execution_count": null,
      "outputs": []
    },
    {
      "cell_type": "code",
      "source": [
        "Vsabc"
      ],
      "metadata": {
        "id": "L25MaSfqC3yd",
        "colab": {
          "base_uri": "https://localhost:8080/",
          "height": 95
        },
        "outputId": "fbc0d56b-26ec-48cd-f9c0-053bd94b0dd4"
      },
      "execution_count": null,
      "outputs": [
        {
          "output_type": "execute_result",
          "data": {
            "text/plain": [
              "Matrix([\n",
              "[-Lms*Derivative(ibs(t), t)/2 - Lms*Derivative(ics(t), t)/2 - Msr*omega_r*iar(t)*sin(omega_r*t) - Msr*omega_r*ibr(t)*cos(omega_r*t + pi/6) + Msr*omega_r*ict(t)*sin(omega_r*t + pi/3) - Msr*sin(omega_r*t + pi/6)*Derivative(ibr(t), t) + Msr*cos(omega_r*t)*Derivative(iar(t), t) - Msr*cos(omega_r*t + pi/3)*Derivative(ict(t), t) + Rs*ias(t) + (Lls + Lms)*Derivative(ias(t), t)],\n",
              "[-Lms*Derivative(ias(t), t)/2 - Lms*Derivative(ics(t), t)/2 + Msr*omega_r*iar(t)*sin(omega_r*t + pi/3) - Msr*omega_r*ibr(t)*sin(omega_r*t) - Msr*omega_r*ict(t)*cos(omega_r*t + pi/6) - Msr*sin(omega_r*t + pi/6)*Derivative(ict(t), t) + Msr*cos(omega_r*t)*Derivative(ibr(t), t) - Msr*cos(omega_r*t + pi/3)*Derivative(iar(t), t) + Rs*ibs(t) + (Lls + Lms)*Derivative(ibs(t), t)],\n",
              "[-Lms*Derivative(ias(t), t)/2 - Lms*Derivative(ibs(t), t)/2 - Msr*omega_r*iar(t)*cos(omega_r*t + pi/6) + Msr*omega_r*ibr(t)*sin(omega_r*t + pi/3) - Msr*omega_r*ict(t)*sin(omega_r*t) - Msr*sin(omega_r*t + pi/6)*Derivative(iar(t), t) + Msr*cos(omega_r*t)*Derivative(ict(t), t) - Msr*cos(omega_r*t + pi/3)*Derivative(ibr(t), t) + Rs*ics(t) + (Lls + Lms)*Derivative(ics(t), t)]])"
            ],
            "text/latex": "$\\displaystyle \\left[\\begin{matrix}- \\frac{Lms \\frac{d}{d t} \\operatorname{ibs}{\\left(t \\right)}}{2} - \\frac{Lms \\frac{d}{d t} \\operatorname{ics}{\\left(t \\right)}}{2} - Msr \\omega_{r} \\operatorname{iar}{\\left(t \\right)} \\sin{\\left(\\omega_{r} t \\right)} - Msr \\omega_{r} \\operatorname{ibr}{\\left(t \\right)} \\cos{\\left(\\omega_{r} t + \\frac{\\pi}{6} \\right)} + Msr \\omega_{r} \\operatorname{ict}{\\left(t \\right)} \\sin{\\left(\\omega_{r} t + \\frac{\\pi}{3} \\right)} - Msr \\sin{\\left(\\omega_{r} t + \\frac{\\pi}{6} \\right)} \\frac{d}{d t} \\operatorname{ibr}{\\left(t \\right)} + Msr \\cos{\\left(\\omega_{r} t \\right)} \\frac{d}{d t} \\operatorname{iar}{\\left(t \\right)} - Msr \\cos{\\left(\\omega_{r} t + \\frac{\\pi}{3} \\right)} \\frac{d}{d t} \\operatorname{ict}{\\left(t \\right)} + Rs \\operatorname{ias}{\\left(t \\right)} + \\left(Lls + Lms\\right) \\frac{d}{d t} \\operatorname{ias}{\\left(t \\right)}\\\\- \\frac{Lms \\frac{d}{d t} \\operatorname{ias}{\\left(t \\right)}}{2} - \\frac{Lms \\frac{d}{d t} \\operatorname{ics}{\\left(t \\right)}}{2} + Msr \\omega_{r} \\operatorname{iar}{\\left(t \\right)} \\sin{\\left(\\omega_{r} t + \\frac{\\pi}{3} \\right)} - Msr \\omega_{r} \\operatorname{ibr}{\\left(t \\right)} \\sin{\\left(\\omega_{r} t \\right)} - Msr \\omega_{r} \\operatorname{ict}{\\left(t \\right)} \\cos{\\left(\\omega_{r} t + \\frac{\\pi}{6} \\right)} - Msr \\sin{\\left(\\omega_{r} t + \\frac{\\pi}{6} \\right)} \\frac{d}{d t} \\operatorname{ict}{\\left(t \\right)} + Msr \\cos{\\left(\\omega_{r} t \\right)} \\frac{d}{d t} \\operatorname{ibr}{\\left(t \\right)} - Msr \\cos{\\left(\\omega_{r} t + \\frac{\\pi}{3} \\right)} \\frac{d}{d t} \\operatorname{iar}{\\left(t \\right)} + Rs \\operatorname{ibs}{\\left(t \\right)} + \\left(Lls + Lms\\right) \\frac{d}{d t} \\operatorname{ibs}{\\left(t \\right)}\\\\- \\frac{Lms \\frac{d}{d t} \\operatorname{ias}{\\left(t \\right)}}{2} - \\frac{Lms \\frac{d}{d t} \\operatorname{ibs}{\\left(t \\right)}}{2} - Msr \\omega_{r} \\operatorname{iar}{\\left(t \\right)} \\cos{\\left(\\omega_{r} t + \\frac{\\pi}{6} \\right)} + Msr \\omega_{r} \\operatorname{ibr}{\\left(t \\right)} \\sin{\\left(\\omega_{r} t + \\frac{\\pi}{3} \\right)} - Msr \\omega_{r} \\operatorname{ict}{\\left(t \\right)} \\sin{\\left(\\omega_{r} t \\right)} - Msr \\sin{\\left(\\omega_{r} t + \\frac{\\pi}{6} \\right)} \\frac{d}{d t} \\operatorname{iar}{\\left(t \\right)} + Msr \\cos{\\left(\\omega_{r} t \\right)} \\frac{d}{d t} \\operatorname{ict}{\\left(t \\right)} - Msr \\cos{\\left(\\omega_{r} t + \\frac{\\pi}{3} \\right)} \\frac{d}{d t} \\operatorname{ibr}{\\left(t \\right)} + Rs \\operatorname{ics}{\\left(t \\right)} + \\left(Lls + Lms\\right) \\frac{d}{d t} \\operatorname{ics}{\\left(t \\right)}\\end{matrix}\\right]$"
          },
          "metadata": {},
          "execution_count": 85
        }
      ]
    },
    {
      "cell_type": "code",
      "source": [
        "Vrabc"
      ],
      "metadata": {
        "id": "XcNc_5gbC42L",
        "colab": {
          "base_uri": "https://localhost:8080/",
          "height": 95
        },
        "outputId": "b0434ff6-1024-4a11-a017-0c9a9d1ad85f"
      },
      "execution_count": null,
      "outputs": [
        {
          "output_type": "execute_result",
          "data": {
            "text/plain": [
              "Matrix([\n",
              "[-Lmr*Derivative(ibr(t), t)/2 - Lmr*Derivative(ict(t), t)/2 - Msr*omega_r*ias(t)*sin(omega_r*t) + Msr*omega_r*ibs(t)*sin(omega_r*t + pi/3) - Msr*omega_r*ics(t)*cos(omega_r*t + pi/6) - Msr*sin(omega_r*t + pi/6)*Derivative(ics(t), t) + Msr*cos(omega_r*t)*Derivative(ias(t), t) - Msr*cos(omega_r*t + pi/3)*Derivative(ibs(t), t) + Rr*ias(t) + (Llr + Lmr)*Derivative(iar(t), t)],\n",
              "[-Lmr*Derivative(iar(t), t)/2 - Lmr*Derivative(ict(t), t)/2 - Msr*omega_r*ias(t)*cos(omega_r*t + pi/6) - Msr*omega_r*ibs(t)*sin(omega_r*t) + Msr*omega_r*ics(t)*sin(omega_r*t + pi/3) - Msr*sin(omega_r*t + pi/6)*Derivative(ias(t), t) + Msr*cos(omega_r*t)*Derivative(ibs(t), t) - Msr*cos(omega_r*t + pi/3)*Derivative(ics(t), t) + Rr*ibs(t) + (Llr + Lmr)*Derivative(ibr(t), t)],\n",
              "[-Lmr*Derivative(iar(t), t)/2 - Lmr*Derivative(ibr(t), t)/2 + Msr*omega_r*ias(t)*sin(omega_r*t + pi/3) - Msr*omega_r*ibs(t)*cos(omega_r*t + pi/6) - Msr*omega_r*ics(t)*sin(omega_r*t) - Msr*sin(omega_r*t + pi/6)*Derivative(ibs(t), t) + Msr*cos(omega_r*t)*Derivative(ics(t), t) - Msr*cos(omega_r*t + pi/3)*Derivative(ias(t), t) + Rr*ics(t) + (Llr + Lmr)*Derivative(ict(t), t)]])"
            ],
            "text/latex": "$\\displaystyle \\left[\\begin{matrix}- \\frac{Lmr \\frac{d}{d t} \\operatorname{ibr}{\\left(t \\right)}}{2} - \\frac{Lmr \\frac{d}{d t} \\operatorname{ict}{\\left(t \\right)}}{2} - Msr \\omega_{r} \\operatorname{ias}{\\left(t \\right)} \\sin{\\left(\\omega_{r} t \\right)} + Msr \\omega_{r} \\operatorname{ibs}{\\left(t \\right)} \\sin{\\left(\\omega_{r} t + \\frac{\\pi}{3} \\right)} - Msr \\omega_{r} \\operatorname{ics}{\\left(t \\right)} \\cos{\\left(\\omega_{r} t + \\frac{\\pi}{6} \\right)} - Msr \\sin{\\left(\\omega_{r} t + \\frac{\\pi}{6} \\right)} \\frac{d}{d t} \\operatorname{ics}{\\left(t \\right)} + Msr \\cos{\\left(\\omega_{r} t \\right)} \\frac{d}{d t} \\operatorname{ias}{\\left(t \\right)} - Msr \\cos{\\left(\\omega_{r} t + \\frac{\\pi}{3} \\right)} \\frac{d}{d t} \\operatorname{ibs}{\\left(t \\right)} + Rr \\operatorname{ias}{\\left(t \\right)} + \\left(Llr + Lmr\\right) \\frac{d}{d t} \\operatorname{iar}{\\left(t \\right)}\\\\- \\frac{Lmr \\frac{d}{d t} \\operatorname{iar}{\\left(t \\right)}}{2} - \\frac{Lmr \\frac{d}{d t} \\operatorname{ict}{\\left(t \\right)}}{2} - Msr \\omega_{r} \\operatorname{ias}{\\left(t \\right)} \\cos{\\left(\\omega_{r} t + \\frac{\\pi}{6} \\right)} - Msr \\omega_{r} \\operatorname{ibs}{\\left(t \\right)} \\sin{\\left(\\omega_{r} t \\right)} + Msr \\omega_{r} \\operatorname{ics}{\\left(t \\right)} \\sin{\\left(\\omega_{r} t + \\frac{\\pi}{3} \\right)} - Msr \\sin{\\left(\\omega_{r} t + \\frac{\\pi}{6} \\right)} \\frac{d}{d t} \\operatorname{ias}{\\left(t \\right)} + Msr \\cos{\\left(\\omega_{r} t \\right)} \\frac{d}{d t} \\operatorname{ibs}{\\left(t \\right)} - Msr \\cos{\\left(\\omega_{r} t + \\frac{\\pi}{3} \\right)} \\frac{d}{d t} \\operatorname{ics}{\\left(t \\right)} + Rr \\operatorname{ibs}{\\left(t \\right)} + \\left(Llr + Lmr\\right) \\frac{d}{d t} \\operatorname{ibr}{\\left(t \\right)}\\\\- \\frac{Lmr \\frac{d}{d t} \\operatorname{iar}{\\left(t \\right)}}{2} - \\frac{Lmr \\frac{d}{d t} \\operatorname{ibr}{\\left(t \\right)}}{2} + Msr \\omega_{r} \\operatorname{ias}{\\left(t \\right)} \\sin{\\left(\\omega_{r} t + \\frac{\\pi}{3} \\right)} - Msr \\omega_{r} \\operatorname{ibs}{\\left(t \\right)} \\cos{\\left(\\omega_{r} t + \\frac{\\pi}{6} \\right)} - Msr \\omega_{r} \\operatorname{ics}{\\left(t \\right)} \\sin{\\left(\\omega_{r} t \\right)} - Msr \\sin{\\left(\\omega_{r} t + \\frac{\\pi}{6} \\right)} \\frac{d}{d t} \\operatorname{ibs}{\\left(t \\right)} + Msr \\cos{\\left(\\omega_{r} t \\right)} \\frac{d}{d t} \\operatorname{ics}{\\left(t \\right)} - Msr \\cos{\\left(\\omega_{r} t + \\frac{\\pi}{3} \\right)} \\frac{d}{d t} \\operatorname{ias}{\\left(t \\right)} + Rr \\operatorname{ics}{\\left(t \\right)} + \\left(Llr + Lmr\\right) \\frac{d}{d t} \\operatorname{ict}{\\left(t \\right)}\\end{matrix}\\right]$"
          },
          "metadata": {},
          "execution_count": 86
        }
      ]
    },
    {
      "cell_type": "code",
      "source": [
        "Vsdq = Rsdq*isdq+Lambdasdq.diff(t)+Es*Lambdasdq\n",
        "Vsdq"
      ],
      "metadata": {
        "colab": {
          "base_uri": "https://localhost:8080/",
          "height": 80
        },
        "id": "It8lW_OrwIXp",
        "outputId": "ca419010-9532-4594-f9a5-7ee13123258f"
      },
      "execution_count": null,
      "outputs": [
        {
          "output_type": "execute_result",
          "data": {
            "text/plain": [
              "Matrix([\n",
              "[Rs*ids(t) - omega*lambda_qs(t) + Derivative(lambda_ds(t), t)],\n",
              "[Rs*iqs(t) + omega*lambda_ds(t) + Derivative(lambda_qs(t), t)],\n",
              "[                     Rs*i0s(t) + Derivative(lambda_0s(t), t)]])"
            ],
            "text/latex": "$\\displaystyle \\left[\\begin{matrix}Rs \\operatorname{ids}{\\left(t \\right)} - \\omega \\lambda_{qs}{\\left(t \\right)} + \\frac{d}{d t} \\lambda_{ds}{\\left(t \\right)}\\\\Rs \\operatorname{iqs}{\\left(t \\right)} + \\omega \\lambda_{ds}{\\left(t \\right)} + \\frac{d}{d t} \\lambda_{qs}{\\left(t \\right)}\\\\Rs \\operatorname{i0s}{\\left(t \\right)} + \\frac{d}{d t} \\lambda_{0s}{\\left(t \\right)}\\end{matrix}\\right]$"
          },
          "metadata": {},
          "execution_count": 87
        }
      ]
    },
    {
      "cell_type": "code",
      "source": [
        "Vrdq = Rrdq*irdq+Lambdardq.diff(t)+Er*Lambdardq\n",
        "Vrdq"
      ],
      "metadata": {
        "id": "QOtutZvWwRMQ",
        "colab": {
          "base_uri": "https://localhost:8080/",
          "height": 80
        },
        "outputId": "7a6f3ad4-e0d8-4015-a5c7-81ade4a4acee"
      },
      "execution_count": null,
      "outputs": [
        {
          "output_type": "execute_result",
          "data": {
            "text/plain": [
              "Matrix([\n",
              "[Rr*idr(t) + (-omega + omega_r)*lambda_qr(t) + Derivative(lambda_dr(t), t)],\n",
              "[ Rr*iqr(t) + (omega - omega_r)*lambda_dr(t) + Derivative(lambda_qr(t), t)],\n",
              "[                                  Rr*i0r(t) + Derivative(lambda_0r(t), t)]])"
            ],
            "text/latex": "$\\displaystyle \\left[\\begin{matrix}Rr \\operatorname{idr}{\\left(t \\right)} + \\left(- \\omega + \\omega_{r}\\right) \\lambda_{qr}{\\left(t \\right)} + \\frac{d}{d t} \\lambda_{dr}{\\left(t \\right)}\\\\Rr \\operatorname{iqr}{\\left(t \\right)} + \\left(\\omega - \\omega_{r}\\right) \\lambda_{dr}{\\left(t \\right)} + \\frac{d}{d t} \\lambda_{qr}{\\left(t \\right)}\\\\Rr \\operatorname{i0r}{\\left(t \\right)} + \\frac{d}{d t} \\lambda_{0r}{\\left(t \\right)}\\end{matrix}\\right]$"
          },
          "metadata": {},
          "execution_count": 88
        }
      ]
    },
    {
      "cell_type": "code",
      "source": [
        "Lambdasdq = Lssdq*isdq+Lsrdq*irdq\n",
        "Lambdasdq"
      ],
      "metadata": {
        "id": "7mf0_uVlwZCU",
        "colab": {
          "base_uri": "https://localhost:8080/",
          "height": 84
        },
        "outputId": "eed81b56-6b31-499d-e504-4a96ff0f0f2f"
      },
      "execution_count": null,
      "outputs": [
        {
          "output_type": "execute_result",
          "data": {
            "text/plain": [
              "Matrix([\n",
              "[3*Msr*idr(t)/2 + (Lls + 3*Lms/2)*ids(t)],\n",
              "[3*Msr*iqr(t)/2 + (Lls + 3*Lms/2)*iqs(t)],\n",
              "[                             Lls*i0s(t)]])"
            ],
            "text/latex": "$\\displaystyle \\left[\\begin{matrix}\\frac{3 Msr \\operatorname{idr}{\\left(t \\right)}}{2} + \\left(Lls + \\frac{3 Lms}{2}\\right) \\operatorname{ids}{\\left(t \\right)}\\\\\\frac{3 Msr \\operatorname{iqr}{\\left(t \\right)}}{2} + \\left(Lls + \\frac{3 Lms}{2}\\right) \\operatorname{iqs}{\\left(t \\right)}\\\\Lls \\operatorname{i0s}{\\left(t \\right)}\\end{matrix}\\right]$"
          },
          "metadata": {},
          "execution_count": 89
        }
      ]
    },
    {
      "cell_type": "code",
      "source": [
        "Lambdardq = Lrsdq*isdq+Lrrdq*irdq\n",
        "Lambdardq"
      ],
      "metadata": {
        "id": "_CHXQuxmwZjo",
        "colab": {
          "base_uri": "https://localhost:8080/",
          "height": 84
        },
        "outputId": "4580444e-42bb-42a5-8b45-621f7aa3ef7b"
      },
      "execution_count": null,
      "outputs": [
        {
          "output_type": "execute_result",
          "data": {
            "text/plain": [
              "Matrix([\n",
              "[3*Msr*ids(t)/2 + (Llr + 3*Lmr/2)*idr(t)],\n",
              "[3*Msr*iqs(t)/2 + (Llr + 3*Lmr/2)*iqr(t)],\n",
              "[                             Llr*i0r(t)]])"
            ],
            "text/latex": "$\\displaystyle \\left[\\begin{matrix}\\frac{3 Msr \\operatorname{ids}{\\left(t \\right)}}{2} + \\left(Llr + \\frac{3 Lmr}{2}\\right) \\operatorname{idr}{\\left(t \\right)}\\\\\\frac{3 Msr \\operatorname{iqs}{\\left(t \\right)}}{2} + \\left(Llr + \\frac{3 Lmr}{2}\\right) \\operatorname{iqr}{\\left(t \\right)}\\\\Llr \\operatorname{i0r}{\\left(t \\right)}\\end{matrix}\\right]$"
          },
          "metadata": {},
          "execution_count": 90
        }
      ]
    },
    {
      "cell_type": "code",
      "source": [
        "Vsdq = Rsdq*isdq+Lambdasdq.diff(t)+Es*Lambdasdq\n",
        "Vsdq"
      ],
      "metadata": {
        "id": "V_qmeDnbwb47",
        "colab": {
          "base_uri": "https://localhost:8080/",
          "height": 100
        },
        "outputId": "828548ac-38d5-4e2c-f5ca-20314c37ceaa"
      },
      "execution_count": null,
      "outputs": [
        {
          "output_type": "execute_result",
          "data": {
            "text/plain": [
              "Matrix([\n",
              "[3*Msr*Derivative(idr(t), t)/2 + Rs*ids(t) - omega*(3*Msr*iqr(t)/2 + (Lls + 3*Lms/2)*iqs(t)) + (Lls + 3*Lms/2)*Derivative(ids(t), t)],\n",
              "[3*Msr*Derivative(iqr(t), t)/2 + Rs*iqs(t) + omega*(3*Msr*idr(t)/2 + (Lls + 3*Lms/2)*ids(t)) + (Lls + 3*Lms/2)*Derivative(iqs(t), t)],\n",
              "[                                                                                              Lls*Derivative(i0s(t), t) + Rs*i0s(t)]])"
            ],
            "text/latex": "$\\displaystyle \\left[\\begin{matrix}\\frac{3 Msr \\frac{d}{d t} \\operatorname{idr}{\\left(t \\right)}}{2} + Rs \\operatorname{ids}{\\left(t \\right)} - \\omega \\left(\\frac{3 Msr \\operatorname{iqr}{\\left(t \\right)}}{2} + \\left(Lls + \\frac{3 Lms}{2}\\right) \\operatorname{iqs}{\\left(t \\right)}\\right) + \\left(Lls + \\frac{3 Lms}{2}\\right) \\frac{d}{d t} \\operatorname{ids}{\\left(t \\right)}\\\\\\frac{3 Msr \\frac{d}{d t} \\operatorname{iqr}{\\left(t \\right)}}{2} + Rs \\operatorname{iqs}{\\left(t \\right)} + \\omega \\left(\\frac{3 Msr \\operatorname{idr}{\\left(t \\right)}}{2} + \\left(Lls + \\frac{3 Lms}{2}\\right) \\operatorname{ids}{\\left(t \\right)}\\right) + \\left(Lls + \\frac{3 Lms}{2}\\right) \\frac{d}{d t} \\operatorname{iqs}{\\left(t \\right)}\\\\Lls \\frac{d}{d t} \\operatorname{i0s}{\\left(t \\right)} + Rs \\operatorname{i0s}{\\left(t \\right)}\\end{matrix}\\right]$"
          },
          "metadata": {},
          "execution_count": 91
        }
      ]
    },
    {
      "cell_type": "code",
      "source": [
        "Vrdq = Rrdq*irdq+Lambdardq.diff(t)+Er*Lambdardq\n",
        "Vrdq"
      ],
      "metadata": {
        "id": "syxwTLuKweAX",
        "colab": {
          "base_uri": "https://localhost:8080/",
          "height": 100
        },
        "outputId": "8d036de1-9839-4d07-91bc-15470b542053"
      },
      "execution_count": null,
      "outputs": [
        {
          "output_type": "execute_result",
          "data": {
            "text/plain": [
              "Matrix([\n",
              "[3*Msr*Derivative(ids(t), t)/2 + Rr*idr(t) + (Llr + 3*Lmr/2)*Derivative(idr(t), t) + (-omega + omega_r)*(3*Msr*iqs(t)/2 + (Llr + 3*Lmr/2)*iqr(t))],\n",
              "[ 3*Msr*Derivative(iqs(t), t)/2 + Rr*iqr(t) + (Llr + 3*Lmr/2)*Derivative(iqr(t), t) + (omega - omega_r)*(3*Msr*ids(t)/2 + (Llr + 3*Lmr/2)*idr(t))],\n",
              "[                                                                                                           Llr*Derivative(i0r(t), t) + Rr*i0r(t)]])"
            ],
            "text/latex": "$\\displaystyle \\left[\\begin{matrix}\\frac{3 Msr \\frac{d}{d t} \\operatorname{ids}{\\left(t \\right)}}{2} + Rr \\operatorname{idr}{\\left(t \\right)} + \\left(Llr + \\frac{3 Lmr}{2}\\right) \\frac{d}{d t} \\operatorname{idr}{\\left(t \\right)} + \\left(- \\omega + \\omega_{r}\\right) \\left(\\frac{3 Msr \\operatorname{iqs}{\\left(t \\right)}}{2} + \\left(Llr + \\frac{3 Lmr}{2}\\right) \\operatorname{iqr}{\\left(t \\right)}\\right)\\\\\\frac{3 Msr \\frac{d}{d t} \\operatorname{iqs}{\\left(t \\right)}}{2} + Rr \\operatorname{iqr}{\\left(t \\right)} + \\left(Llr + \\frac{3 Lmr}{2}\\right) \\frac{d}{d t} \\operatorname{iqr}{\\left(t \\right)} + \\left(\\omega - \\omega_{r}\\right) \\left(\\frac{3 Msr \\operatorname{ids}{\\left(t \\right)}}{2} + \\left(Llr + \\frac{3 Lmr}{2}\\right) \\operatorname{idr}{\\left(t \\right)}\\right)\\\\Llr \\frac{d}{d t} \\operatorname{i0r}{\\left(t \\right)} + Rr \\operatorname{i0r}{\\left(t \\right)}\\end{matrix}\\right]$"
          },
          "metadata": {},
          "execution_count": 92
        }
      ]
    }
  ]
}